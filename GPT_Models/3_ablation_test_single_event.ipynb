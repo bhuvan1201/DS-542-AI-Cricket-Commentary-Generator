{
 "cells": [
  {
   "cell_type": "markdown",
   "id": "6b0c7a22",
   "metadata": {},
   "source": [
    "# Import Statements"
   ]
  },
  {
   "cell_type": "code",
   "execution_count": 1,
   "id": "802dcabb",
   "metadata": {},
   "outputs": [],
   "source": [
    "import cv2\n",
    "import base64\n",
    "import openai"
   ]
  },
  {
   "cell_type": "markdown",
   "id": "f93d6747",
   "metadata": {},
   "source": [
    "# Initialize OpenAI Client"
   ]
  },
  {
   "cell_type": "code",
   "execution_count": null,
   "id": "fbd17599",
   "metadata": {},
   "outputs": [],
   "source": [
    "client = openai.OpenAI(api_key=\"YOUR_OPENAI_API_KEY\")"
   ]
  },
  {
   "cell_type": "markdown",
   "id": "f2c6e58c",
   "metadata": {},
   "source": [
    "# Split video to frames"
   ]
  },
  {
   "cell_type": "code",
   "execution_count": null,
   "id": "dc59f6e6",
   "metadata": {},
   "outputs": [],
   "source": [
    "# Load the cricket video\n",
    "video = cv2.VideoCapture(\"ex1.mov\")\n",
    "\n",
    "# Calculate video length\n",
    "length = int(video.get(cv2.CAP_PROP_FRAME_COUNT))\n",
    "fps = video.get(cv2.CAP_PROP_FPS)\n",
    "video_length_seconds = length / fps\n",
    "\n",
    "print(f'Video length: {video_length_seconds:.2f} seconds')\n",
    "\n",
    "# Read frames and encode to base64\n",
    "base64Frames = []\n",
    "while video.isOpened():\n",
    "    success, frame = video.read()\n",
    "    if not success:\n",
    "        break\n",
    "    _, buffer = cv2.imencode(\".jpg\", frame)\n",
    "    base64Frames.append(base64.b64encode(buffer).decode(\"utf-8\"))\n",
    "\n",
    "# Release the video object\n",
    "video.release()\n",
    "print(len(base64Frames), \"frames read.\")\n"
   ]
  },
  {
   "cell_type": "markdown",
   "id": "66de1a39",
   "metadata": {},
   "source": [
    "# Ablation test (25 to 100)\n",
    " \n",
    "* We now do Ablation test to see the minimum number of frames that we would need to generate meaningful commmentary for a given event. \n",
    "* We find that with a mere 3 to 5 frames per event, we are able to generate meaningful commentary. Hence enabling us to save significant amounts of processing cost."
   ]
  },
  {
   "cell_type": "code",
   "execution_count": null,
   "id": "a510e075",
   "metadata": {},
   "outputs": [],
   "source": [
    "sampling_intervals = [25, 30, 40, 50, 80, 100]  # Smaller = more frames sent\n",
    "results = []\n",
    "\n",
    "for interval in sampling_intervals:\n",
    "    print(f\"\\n>>> Sampling every {interval}th frame\")\n",
    "    \n",
    "    sampled_frames = base64Frames[0::interval]\n",
    "\n",
    "    response = client.chat.completions.create(\n",
    "        model=\"gpt-4o-mini\",\n",
    "        messages=[\n",
    "            {\n",
    "                \"role\": \"user\",\n",
    "                \"content\": [\n",
    "                    f\"This video shows a single ball being bowled in a cricket match, lasting about {video_length_seconds:.2f} seconds. Write a short, vivid voiceover script (under 30 words) in the style of a cricket commentator. Focus only on the action — describe the delivery, the shot, and the outcome (like a boundary or wicket). Avoid naming players or describing visuals like the crowd or stadium.\",\n",
    "                    *map(lambda x: {\"image\": x, \"resize\": 768}, sampled_frames),\n",
    "                ]\n",
    "            }\n",
    "        ],\n",
    "        max_tokens=100,\n",
    "    )\n",
    "\n",
    "    commentary = response.choices[0].message.content\n",
    "    print(commentary)\n",
    "\n",
    "    # Optional: Save result\n",
    "    results.append({\n",
    "        \"interval\": interval,\n",
    "        \"frame_count\": len(sampled_frames),\n",
    "        \"commentary\": commentary\n",
    "    })"
   ]
  }
 ],
 "metadata": {
  "kernelspec": {
   "display_name": "base",
   "language": "python",
   "name": "python3"
  },
  "language_info": {
   "codemirror_mode": {
    "name": "ipython",
    "version": 3
   },
   "file_extension": ".py",
   "mimetype": "text/x-python",
   "name": "python",
   "nbconvert_exporter": "python",
   "pygments_lexer": "ipython3",
   "version": "3.12.7"
  }
 },
 "nbformat": 4,
 "nbformat_minor": 5
}
