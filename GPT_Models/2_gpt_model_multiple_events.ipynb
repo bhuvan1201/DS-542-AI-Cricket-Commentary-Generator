{
 "cells": [
  {
   "cell_type": "markdown",
   "id": "e65d965c",
   "metadata": {},
   "source": [
    "# Import Statements"
   ]
  },
  {
   "cell_type": "code",
   "execution_count": null,
   "id": "f18def74",
   "metadata": {},
   "outputs": [],
   "source": [
    "import cv2\n",
    "import base64\n",
    "import openai"
   ]
  },
  {
   "cell_type": "markdown",
   "id": "f66a64a9",
   "metadata": {},
   "source": [
    "# Initialize OpenAI Client"
   ]
  },
  {
   "cell_type": "code",
   "execution_count": null,
   "id": "9bd0cfa4",
   "metadata": {},
   "outputs": [],
   "source": [
    "client = openai.OpenAI(api_key=\"YOUR_OPENAI_API_KEY\")"
   ]
  },
  {
   "cell_type": "markdown",
   "id": "85705964",
   "metadata": {},
   "source": [
    "# Split video to frames"
   ]
  },
  {
   "cell_type": "code",
   "execution_count": null,
   "id": "fd22d186",
   "metadata": {},
   "outputs": [],
   "source": [
    "# Load the cricket video\n",
    "video = cv2.VideoCapture(\"multievent2.mov\")\n",
    "\n",
    "# Calculate video length\n",
    "length = int(video.get(cv2.CAP_PROP_FRAME_COUNT))\n",
    "fps = video.get(cv2.CAP_PROP_FPS)\n",
    "video_length_seconds = length / fps\n",
    "\n",
    "print(f'Video length: {video_length_seconds:.2f} seconds')\n",
    "\n",
    "# Read frames and encode to base64\n",
    "base64Frames = []\n",
    "while video.isOpened():\n",
    "    success, frame = video.read()\n",
    "    if not success:\n",
    "        break\n",
    "    _, buffer = cv2.imencode(\".jpg\", frame)\n",
    "    base64Frames.append(base64.b64encode(buffer).decode(\"utf-8\"))\n",
    "\n",
    "# Release the video object\n",
    "video.release()\n",
    "print(len(base64Frames), \"frames read.\")\n"
   ]
  },
  {
   "cell_type": "markdown",
   "id": "2be98842",
   "metadata": {},
   "source": [
    "# Multiple Event commentary generation prompt engineering test with every 30th frame being passed\n",
    "\n",
    "* Here we pass frames belonging to not just one,but multiple events.\n",
    "* We need more number of frames to be processed by a larger, stronger model (GPT-4o) to be able to do the processing."
   ]
  },
  {
   "cell_type": "code",
   "execution_count": null,
   "id": "fd438a33",
   "metadata": {},
   "outputs": [],
   "source": [
    "# Create OpenAI chat completion for cricket commentary\n",
    "response = client.chat.completions.create(\n",
    "    model=\"gpt-4o\",\n",
    "    messages=[\n",
    "        {\n",
    "            \"role\": \"user\", \n",
    "            \"content\": [\n",
    "                f\"This video contains multiple cricket deliveries, each lasting a few seconds. Based on the sequence of frames provided, generate a separate short cricket commentator-style voiceover line for each delivery. Number them 1., 2., 3., etc. Focus only on the delivery, the shot, and the outcome. Do not mention the player names or identify them or describe visuals like the crowd.\",\n",
    "                *map(lambda x: {\"image\": x, \"resize\": 768}, base64Frames[0::30]),\n",
    "            ]\n",
    "        }\n",
    "    ],\n",
    "    max_tokens=100,\n",
    ")\n",
    "\n",
    "# Print the generated cricket commentary\n",
    "cricket_commentary = response.choices[0].message.content\n",
    "print(cricket_commentary)\n"
   ]
  }
 ],
 "metadata": {
  "kernelspec": {
   "display_name": "base",
   "language": "python",
   "name": "python3"
  },
  "language_info": {
   "codemirror_mode": {
    "name": "ipython",
    "version": 3
   },
   "file_extension": ".py",
   "mimetype": "text/x-python",
   "name": "python",
   "nbconvert_exporter": "python",
   "pygments_lexer": "ipython3",
   "version": "3.12.7"
  }
 },
 "nbformat": 4,
 "nbformat_minor": 5
}
