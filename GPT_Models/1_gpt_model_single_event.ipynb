{
 "cells": [
  {
   "cell_type": "markdown",
   "id": "626f4922",
   "metadata": {},
   "source": [
    "# Import statements"
   ]
  },
  {
   "cell_type": "code",
   "execution_count": null,
   "id": "86b545da",
   "metadata": {},
   "outputs": [],
   "source": [
    "import cv2\n",
    "import base64\n",
    "import openai"
   ]
  },
  {
   "cell_type": "markdown",
   "id": "33621fbb",
   "metadata": {},
   "source": [
    "# Initialize OpenAI Client"
   ]
  },
  {
   "cell_type": "code",
   "execution_count": null,
   "id": "c0425f4f",
   "metadata": {},
   "outputs": [],
   "source": [
    "client = openai.OpenAI(api_key=\"YOUR_OPENAI_API_KEY\")"
   ]
  },
  {
   "cell_type": "markdown",
   "id": "4283dce2",
   "metadata": {},
   "source": [
    "# Split video to frames"
   ]
  },
  {
   "cell_type": "code",
   "execution_count": null,
   "id": "ade85f9c",
   "metadata": {},
   "outputs": [],
   "source": [
    "# Load the cricket video\n",
    "video = cv2.VideoCapture(\"ex1.mov\")\n",
    "\n",
    "# Calculate video length\n",
    "length = int(video.get(cv2.CAP_PROP_FRAME_COUNT))\n",
    "fps = video.get(cv2.CAP_PROP_FPS)\n",
    "video_length_seconds = length / fps\n",
    "\n",
    "print(f'Video length: {video_length_seconds:.2f} seconds')\n",
    "\n",
    "# Read frames and encode to base64\n",
    "base64Frames = []\n",
    "while video.isOpened():\n",
    "    success, frame = video.read()\n",
    "    if not success:\n",
    "        break\n",
    "    _, buffer = cv2.imencode(\".jpg\", frame)\n",
    "    base64Frames.append(base64.b64encode(buffer).decode(\"utf-8\"))\n",
    "\n",
    "# Release the video object\n",
    "video.release()\n",
    "print(len(base64Frames), \"frames read.\")\n"
   ]
  },
  {
   "cell_type": "markdown",
   "id": "c3714116",
   "metadata": {},
   "source": [
    "# Generate commentary for a single given event \n",
    "\n",
    "* Here we are passing evey 30th frame of a cricket video to the gpt-4o-mini model while prompting it to generate commentary in cricket commentary style "
   ]
  },
  {
   "cell_type": "code",
   "execution_count": null,
   "id": "c4774d43",
   "metadata": {},
   "outputs": [],
   "source": [
    "# Create OpenAI chat completion for cricket commentary\n",
    "response = client.chat.completions.create(\n",
    "    model=\"gpt-4o-mini\",\n",
    "    messages=[\n",
    "        {\n",
    "            \"role\": \"user\", \n",
    "            \"content\": [\n",
    "                f\"These are frames of a video. Create a very short and simple voiceover script in the style of a cricket commentator for {video_length_seconds:.2f} seconds. Only include the narration. Don't talk about the view\",\n",
    "                *map(lambda x: {\"image\": x, \"resize\": 768}, base64Frames[0::30]),\n",
    "            ]\n",
    "        }\n",
    "    ],\n",
    "    max_tokens=200,\n",
    ")\n",
    "\n",
    "# Print the generated cricket commentary\n",
    "cricket_commentary = response.choices[0].message.content\n",
    "print(cricket_commentary)\n"
   ]
  }
 ],
 "metadata": {
  "kernelspec": {
   "display_name": "base",
   "language": "python",
   "name": "python3"
  },
  "language_info": {
   "codemirror_mode": {
    "name": "ipython",
    "version": 3
   },
   "file_extension": ".py",
   "mimetype": "text/x-python",
   "name": "python",
   "nbconvert_exporter": "python",
   "pygments_lexer": "ipython3",
   "version": "3.12.7"
  }
 },
 "nbformat": 4,
 "nbformat_minor": 5
}
